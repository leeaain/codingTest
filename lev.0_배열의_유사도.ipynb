{
 "cells": [
  {
   "cell_type": "markdown",
   "metadata": {},
   "source": [
    "### 배열의 유사도\n",
    "https://school.programmers.co.kr/learn/courses/30/lessons/120903\n",
    "\n",
    "#### 문제 설명\n",
    "두 배열이 얼마나 유사한지 확인해보려고 합니다. 문자열 배열 s1과 s2가 주어질 때 같은 원소의 개수를 return하도록 solution 함수를 완성해주세요."
   ]
  },
  {
   "cell_type": "code",
   "execution_count": 3,
   "metadata": {},
   "outputs": [],
   "source": [
    "def solution(s1, s2):\n",
    "    return len(set(s1) & set(s2))"
   ]
  },
  {
   "cell_type": "code",
   "execution_count": 11,
   "metadata": {},
   "outputs": [
    {
     "name": "stdout",
     "output_type": "stream",
     "text": [
      "2\n"
     ]
    }
   ],
   "source": [
    "# 결과 출력\n",
    "print(solution([\"a\", \"b\", \"c\"], [\"com\", \"b\", \"d\", \"p\", \"c\"]))  # 기대값: 2"
   ]
  },
  {
   "cell_type": "markdown",
   "metadata": {},
   "source": [
    "---\n",
    "딕셔너리를 이용한 코드"
   ]
  },
  {
   "cell_type": "code",
   "execution_count": 14,
   "metadata": {},
   "outputs": [
    {
     "name": "stdout",
     "output_type": "stream",
     "text": [
      "2\n"
     ]
    }
   ],
   "source": [
    "def solution(s1, s2):\n",
    "    dic = {i:1 for i in s1}\n",
    "    return sum(dic.get(j, 0) for j in s2)\n",
    "\n",
    "# 결과 출력\n",
    "print(solution([\"a\", \"b\", \"c\"], [\"com\", \"b\", \"d\", \"p\", \"c\"])) "
   ]
  },
  {
   "cell_type": "code",
   "execution_count": 20,
   "metadata": {},
   "outputs": [
    {
     "name": "stdout",
     "output_type": "stream",
     "text": [
      "{'a': 1, 'bcd': 1, 'cd': 1}\n"
     ]
    },
    {
     "data": {
      "text/plain": [
       "1"
      ]
     },
     "execution_count": 20,
     "metadata": {},
     "output_type": "execute_result"
    }
   ],
   "source": [
    "# 위 코드를 이해하기 위한 노력\n",
    "# a1의 각 요소들을 key로 하고 각 값 1을 가지는 딕셔너리로 생성\n",
    "dic = {i:1 for i in [\"a\", \"bcd\", \"cd\"]}\n",
    "print(dic)\n",
    "\n",
    "# 만들어진 딕셔너리에서 일치하는 키 찾아서 값 반환. 없으면 0 반환.\n",
    "dic.get(\"a\", 0) + dic.get(\"x\", 0) # 0: 키가 딕셔너리에 존재하지 않을 때 반환할 기본값(default value)\n"
   ]
  }
 ],
 "metadata": {
  "kernelspec": {
   "display_name": "capitalarea38",
   "language": "python",
   "name": "youenv"
  },
  "language_info": {
   "codemirror_mode": {
    "name": "ipython",
    "version": 3
   },
   "file_extension": ".py",
   "mimetype": "text/x-python",
   "name": "python",
   "nbconvert_exporter": "python",
   "pygments_lexer": "ipython3",
   "version": "3.8.19"
  }
 },
 "nbformat": 4,
 "nbformat_minor": 2
}
