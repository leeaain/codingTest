{
 "cells": [
  {
   "cell_type": "markdown",
   "metadata": {},
   "source": [
    "### 배열의 유사도\n",
    "https://school.programmers.co.kr/learn/courses/30/lessons/120903\n",
    "\n",
    "#### 문제 설명\n",
    "두 배열이 얼마나 유사한지 확인해보려고 합니다. 문자열 배열 s1과 s2가 주어질 때 같은 원소의 개수를 return하도록 solution 함수를 완성해주세요."
   ]
  },
  {
   "cell_type": "markdown",
   "metadata": {},
   "source": [
    "이솝우화 텍스트에서 단어 추출해서 배열 만들기"
   ]
  },
  {
   "cell_type": "code",
   "execution_count": 80,
   "metadata": {},
   "outputs": [
    {
     "name": "stdout",
     "output_type": "stream",
     "text": [
      "['the', 'tree,', 'my', 'porter', 'will', 'let', 'you', 'in', 'the', 'hungry', 'but', 'unsuspecting', 'fox,', 'went', 'around']\n"
     ]
    },
    {
     "data": {
      "text/plain": [
       "1030"
      ]
     },
     "execution_count": 80,
     "metadata": {},
     "output_type": "execute_result"
    }
   ],
   "source": [
    "with open('aesop_fairytail.txt', 'r') as f:\n",
    "    text = f.read()\n",
    "\n",
    "array_text  = text.replace('\"\\n', \" \").replace(\".\", \"\").lower().split(' ')\n",
    "\n",
    "print(array_text[1000:-15])\n",
    "len(array_text)"
   ]
  },
  {
   "cell_type": "code",
   "execution_count": 73,
   "metadata": {},
   "outputs": [],
   "source": [
    "# 랜덤으로 1개~5개의 알파벳을 조합하여 n개의 무작위 알파벳조합을 생성\n",
    "import random\n",
    "import string\n",
    "\n",
    "def generate_random_word(length):\n",
    "    return ''.join(random.choices(string.ascii_lowercase, k=length))\n",
    "\n",
    "words = [generate_random_word(random.randint(1, 5)) for _ in range(1000000)]"
   ]
  },
  {
   "cell_type": "code",
   "execution_count": 84,
   "metadata": {},
   "outputs": [],
   "source": [
    "# 중복 없애기. \n",
    "# 중복을 없애고 나면 소요시간이 두 방법 모두 절반 이하로 줄어듦.\n",
    "words = list(set(words))\n",
    "array_text = list(set(array_text))"
   ]
  },
  {
   "cell_type": "markdown",
   "metadata": {},
   "source": [
    "---\n",
    "첫번째 방법. 집합 연산"
   ]
  },
  {
   "cell_type": "code",
   "execution_count": 82,
   "metadata": {},
   "outputs": [
    {
     "name": "stdout",
     "output_type": "stream",
     "text": [
      "102\n",
      "0.025419950485229492초 소요\n"
     ]
    }
   ],
   "source": [
    "import time\n",
    "start_time = time.time()\n",
    "\n",
    "def solution(s1, s2):\n",
    "    return len(set(s1) & set(s2))\n",
    "\n",
    "# 결과 출력\n",
    "print(solution(words, array_text))\n",
    "\n",
    "print(f\"{time.time() - start_time}초 소요\")"
   ]
  },
  {
   "cell_type": "markdown",
   "metadata": {},
   "source": [
    "---\n",
    "두번째 방법. 딕셔너리를 이용한 코드"
   ]
  },
  {
   "cell_type": "code",
   "execution_count": 90,
   "metadata": {},
   "outputs": [
    {
     "name": "stdout",
     "output_type": "stream",
     "text": [
      "102\n",
      "0.039201974868774414초 소요\n"
     ]
    }
   ],
   "source": [
    "import time\n",
    "start_time = time.time()\n",
    "\n",
    "def solution2(s1, s2):\n",
    "    dic = {i:1 for i in s1}\n",
    "    # 먼저 전체 리스트를 메모리에 생성한 다음, sum() 함수가 이 리스트를 처리하는 방식\n",
    "    # 리스트 생성에 따른 오버헤드가 발생한다.\n",
    "    # return sum([dic.get(j, 0) for j in s2])\n",
    "\n",
    "    # 제너레이터 표현식으로 리스트를 생성하지 않고 값들을 생성하면서 sum()함수등에\n",
    "    # 전달한다. 메모리 효율이 더 좋은 방식으로 필요할 때만 값을 생성한다.\n",
    "    return sum(dic.get(j, 0) for j in s2)\n",
    "\n",
    "# 결과 출력\n",
    "# print(solution2([\"a\", \"b\", \"c\"], array_text)) \n",
    "print(solution2(words, array_text))\n",
    "\n",
    "# 소요시간 : set 함수를 이용한 방법보다 2배가량 걸림\n",
    "print(f\"{time.time() - start_time}초 소요\")"
   ]
  },
  {
   "cell_type": "code",
   "execution_count": 91,
   "metadata": {},
   "outputs": [
    {
     "name": "stdout",
     "output_type": "stream",
     "text": [
      "{'a': 1, 'bcd': 1, 'cd': 1}\n"
     ]
    },
    {
     "data": {
      "text/plain": [
       "1"
      ]
     },
     "execution_count": 91,
     "metadata": {},
     "output_type": "execute_result"
    }
   ],
   "source": [
    "# 위 코드를 이해하기 위한 노력\n",
    "# a1의 각 요소들을 key로 하고 각 값 1을 가지는 딕셔너리로 생성\n",
    "dic = {i:1 for i in [\"a\", \"bcd\", \"cd\"]}\n",
    "print(dic)\n",
    "\n",
    "# 만들어진 딕셔너리에서 일치하는 키 찾아서 값 반환. 없으면 0 반환.\n",
    "dic.get(\"a\", 0) + dic.get(\"x\", 0) # 0: 키가 딕셔너리에 존재하지 않을 때 반환할 기본값(default value)"
   ]
  },
  {
   "cell_type": "code",
   "execution_count": null,
   "metadata": {},
   "outputs": [],
   "source": []
  }
 ],
 "metadata": {
  "kernelspec": {
   "display_name": "capitalarea38",
   "language": "python",
   "name": "youenv"
  },
  "language_info": {
   "codemirror_mode": {
    "name": "ipython",
    "version": 3
   },
   "file_extension": ".py",
   "mimetype": "text/x-python",
   "name": "python",
   "nbconvert_exporter": "python",
   "pygments_lexer": "ipython3",
   "version": "3.8.19"
  }
 },
 "nbformat": 4,
 "nbformat_minor": 2
}
