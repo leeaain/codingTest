{
 "cells": [
  {
   "cell_type": "markdown",
   "metadata": {},
   "source": [
    "\n",
    "#### 문자 반복 출력하기\n",
    "https://school.programmers.co.kr/learn/courses/30/lessons/120825\n",
    "##### 문제 설명\n",
    "문자열 my_string과 정수 n이 매개변수로 주어질 때, my_string에 들어있는 각 문자를 n만큼 반복한 문자열을 return 하도록 solution 함수를 완성해보세요."
   ]
  },
  {
   "cell_type": "code",
   "execution_count": 2,
   "metadata": {},
   "outputs": [],
   "source": [
    "def solution(string, n):\n",
    "    return ''.join([s * n for s in string])"
   ]
  },
  {
   "cell_type": "code",
   "execution_count": 4,
   "metadata": {},
   "outputs": [
    {
     "name": "stdout",
     "output_type": "stream",
     "text": [
      "hhheeellllllooo\n"
     ]
    }
   ],
   "source": [
    "# 결과 출력\n",
    "print(solution(\"hello\", 3))"
   ]
  }
 ],
 "metadata": {
  "kernelspec": {
   "display_name": "capitalarea38",
   "language": "python",
   "name": "youenv"
  },
  "language_info": {
   "codemirror_mode": {
    "name": "ipython",
    "version": 3
   },
   "file_extension": ".py",
   "mimetype": "text/x-python",
   "name": "python",
   "nbconvert_exporter": "python",
   "pygments_lexer": "ipython3",
   "version": "3.8.19"
  }
 },
 "nbformat": 4,
 "nbformat_minor": 2
}
